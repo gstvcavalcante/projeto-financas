{
 "cells": [
  {
   "cell_type": "markdown",
   "id": "19bf4ef3",
   "metadata": {},
   "source": [
    "# Criando uma tabela no MySQL com as informações de fatura do mês 09/2023 até 02/2024"
   ]
  },
  {
   "cell_type": "markdown",
   "id": "409dfece",
   "metadata": {},
   "source": [
    "Solicitei que o banco enviasse por e-mail os arquivos CSV referente às faturas dos últimos 6 meses do meu cartão de crédito, para que eu pudesse fazer uma análise dos meus gastos recentes e construir um dashboard no PowerBI."
   ]
  },
  {
   "cell_type": "markdown",
   "id": "efede2e5",
   "metadata": {},
   "source": [
    "## Lendo os arquivos CSV"
   ]
  },
  {
   "cell_type": "code",
   "execution_count": 1,
   "id": "802f85ab",
   "metadata": {},
   "outputs": [
    {
     "data": {
      "text/plain": [
       "True"
      ]
     },
     "execution_count": 1,
     "metadata": {},
     "output_type": "execute_result"
    }
   ],
   "source": [
    "import pandas as pd\n",
    "import mysql.connector\n",
    "# Import para utilizar variáveis de ambiente do arquivo .env\n",
    "from dotenv import load_dotenv\n",
    "import os\n",
    "\n",
    "load_dotenv('.env')"
   ]
  },
  {
   "cell_type": "code",
   "execution_count": 2,
   "id": "41939656",
   "metadata": {},
   "outputs": [],
   "source": [
    "# Utilizando a função da biblioteca pandas, fiz a leitura do arquivo csv referente a fatura de cada mês e inseri num dataframe.\n",
    "df1 = pd.read_csv('faturas/fevereiro/Fatura_2024-02-20.csv', sep=';')\n",
    "df2 = pd.read_csv('faturas/janeiro/Fatura_2024-01-20.csv', sep=';')\n",
    "df3 = pd.read_csv('faturas/dezembro/Fatura_2023-12-20.csv', sep=';')\n",
    "df4 = pd.read_csv('faturas/novembro/Fatura_2023-11-20.csv', sep=';')\n",
    "df5 = pd.read_csv('faturas/outubro/Fatura_2023-10-20.csv', sep=';')\n",
    "df6 = pd.read_csv('faturas/setembro/Fatura_2023-09-20.csv', sep=';')"
   ]
  },
  {
   "cell_type": "code",
   "execution_count": 3,
   "id": "31248885",
   "metadata": {},
   "outputs": [],
   "source": [
    "# Dessa forma, juntei todas as faturas em um único dataframe que servirá de base para a tabela no MySQL.\n",
    "df_final = pd.concat([df1, df2, df3, df4, df5, df6], ignore_index=True)"
   ]
  },
  {
   "cell_type": "code",
   "execution_count": 4,
   "id": "4c462953",
   "metadata": {},
   "outputs": [
    {
     "data": {
      "text/plain": [
       "(185, 9)"
      ]
     },
     "execution_count": 4,
     "metadata": {},
     "output_type": "execute_result"
    }
   ],
   "source": [
    "df_final.shape"
   ]
  },
  {
   "cell_type": "code",
   "execution_count": 5,
   "id": "e8d8dba3",
   "metadata": {},
   "outputs": [
    {
     "data": {
      "text/html": [
       "<div>\n",
       "<style scoped>\n",
       "    .dataframe tbody tr th:only-of-type {\n",
       "        vertical-align: middle;\n",
       "    }\n",
       "\n",
       "    .dataframe tbody tr th {\n",
       "        vertical-align: top;\n",
       "    }\n",
       "\n",
       "    .dataframe thead th {\n",
       "        text-align: right;\n",
       "    }\n",
       "</style>\n",
       "<table border=\"1\" class=\"dataframe\">\n",
       "  <thead>\n",
       "    <tr style=\"text-align: right;\">\n",
       "      <th></th>\n",
       "      <th>Data de Compra</th>\n",
       "      <th>Nome no Cartão</th>\n",
       "      <th>Final do Cartão</th>\n",
       "      <th>Categoria</th>\n",
       "      <th>Descrição</th>\n",
       "      <th>Parcela</th>\n",
       "      <th>Valor (em US$)</th>\n",
       "      <th>Cotação (em R$)</th>\n",
       "      <th>Valor (em R$)</th>\n",
       "    </tr>\n",
       "  </thead>\n",
       "  <tbody>\n",
       "    <tr>\n",
       "      <th>0</th>\n",
       "      <td>10/05/2023</td>\n",
       "      <td>GUSTAVO CAVALCANTE</td>\n",
       "      <td>1342</td>\n",
       "      <td>Serviços pessoais</td>\n",
       "      <td>HNA O BOTICARIO</td>\n",
       "      <td>9/10</td>\n",
       "      <td>0.0</td>\n",
       "      <td>0.0</td>\n",
       "      <td>13.18</td>\n",
       "    </tr>\n",
       "    <tr>\n",
       "      <th>1</th>\n",
       "      <td>01/10/2023</td>\n",
       "      <td>GUSTAVO CAVALCANTE</td>\n",
       "      <td>1342</td>\n",
       "      <td>Serviços pessoais</td>\n",
       "      <td>HNA    *O BOTICARIO</td>\n",
       "      <td>5/7</td>\n",
       "      <td>0.0</td>\n",
       "      <td>0.0</td>\n",
       "      <td>20.52</td>\n",
       "    </tr>\n",
       "    <tr>\n",
       "      <th>2</th>\n",
       "      <td>15/12/2023</td>\n",
       "      <td>GUSTAVO CAVALCANTE</td>\n",
       "      <td>1342</td>\n",
       "      <td>Departamento / Desconto</td>\n",
       "      <td>ZATTINI</td>\n",
       "      <td>2/4</td>\n",
       "      <td>0.0</td>\n",
       "      <td>0.0</td>\n",
       "      <td>64.97</td>\n",
       "    </tr>\n",
       "    <tr>\n",
       "      <th>3</th>\n",
       "      <td>15/12/2023</td>\n",
       "      <td>GUSTAVO CAVALCANTE</td>\n",
       "      <td>1342</td>\n",
       "      <td>Departamento / Desconto</td>\n",
       "      <td>ZATTINI</td>\n",
       "      <td>2/2</td>\n",
       "      <td>0.0</td>\n",
       "      <td>0.0</td>\n",
       "      <td>83.24</td>\n",
       "    </tr>\n",
       "    <tr>\n",
       "      <th>4</th>\n",
       "      <td>15/12/2023</td>\n",
       "      <td>GUSTAVO CAVALCANTE</td>\n",
       "      <td>1342</td>\n",
       "      <td>Departamento / Desconto</td>\n",
       "      <td>MLP         *ZATTINI</td>\n",
       "      <td>2/10</td>\n",
       "      <td>0.0</td>\n",
       "      <td>0.0</td>\n",
       "      <td>87.43</td>\n",
       "    </tr>\n",
       "  </tbody>\n",
       "</table>\n",
       "</div>"
      ],
      "text/plain": [
       "  Data de Compra      Nome no Cartão  Final do Cartão  \\\n",
       "0     10/05/2023  GUSTAVO CAVALCANTE             1342   \n",
       "1     01/10/2023  GUSTAVO CAVALCANTE             1342   \n",
       "2     15/12/2023  GUSTAVO CAVALCANTE             1342   \n",
       "3     15/12/2023  GUSTAVO CAVALCANTE             1342   \n",
       "4     15/12/2023  GUSTAVO CAVALCANTE             1342   \n",
       "\n",
       "                 Categoria             Descrição Parcela  Valor (em US$)  \\\n",
       "0        Serviços pessoais       HNA O BOTICARIO    9/10             0.0   \n",
       "1        Serviços pessoais   HNA    *O BOTICARIO     5/7             0.0   \n",
       "2  Departamento / Desconto               ZATTINI     2/4             0.0   \n",
       "3  Departamento / Desconto               ZATTINI     2/2             0.0   \n",
       "4  Departamento / Desconto  MLP         *ZATTINI    2/10             0.0   \n",
       "\n",
       "   Cotação (em R$)  Valor (em R$)  \n",
       "0              0.0          13.18  \n",
       "1              0.0          20.52  \n",
       "2              0.0          64.97  \n",
       "3              0.0          83.24  \n",
       "4              0.0          87.43  "
      ]
     },
     "execution_count": 5,
     "metadata": {},
     "output_type": "execute_result"
    }
   ],
   "source": [
    "df_final.head()"
   ]
  },
  {
   "cell_type": "code",
   "execution_count": 6,
   "id": "8bc91ccc",
   "metadata": {
    "scrolled": true
   },
   "outputs": [
    {
     "data": {
      "text/html": [
       "<div>\n",
       "<style scoped>\n",
       "    .dataframe tbody tr th:only-of-type {\n",
       "        vertical-align: middle;\n",
       "    }\n",
       "\n",
       "    .dataframe tbody tr th {\n",
       "        vertical-align: top;\n",
       "    }\n",
       "\n",
       "    .dataframe thead th {\n",
       "        text-align: right;\n",
       "    }\n",
       "</style>\n",
       "<table border=\"1\" class=\"dataframe\">\n",
       "  <thead>\n",
       "    <tr style=\"text-align: right;\">\n",
       "      <th></th>\n",
       "      <th>Data de Compra</th>\n",
       "      <th>Nome no Cartão</th>\n",
       "      <th>Final do Cartão</th>\n",
       "      <th>Categoria</th>\n",
       "      <th>Descrição</th>\n",
       "      <th>Parcela</th>\n",
       "      <th>Valor (em US$)</th>\n",
       "      <th>Cotação (em R$)</th>\n",
       "      <th>Valor (em R$)</th>\n",
       "    </tr>\n",
       "  </thead>\n",
       "  <tbody>\n",
       "    <tr>\n",
       "      <th>180</th>\n",
       "      <td>02/09/2023</td>\n",
       "      <td>GUSTAVO CAVALCANTE</td>\n",
       "      <td>8114</td>\n",
       "      <td>Vestuário / Roupas</td>\n",
       "      <td>PAG DAHORASKTSHOP</td>\n",
       "      <td>1/4</td>\n",
       "      <td>0.0</td>\n",
       "      <td>0.0</td>\n",
       "      <td>25.00</td>\n",
       "    </tr>\n",
       "    <tr>\n",
       "      <th>181</th>\n",
       "      <td>02/09/2023</td>\n",
       "      <td>GUSTAVO CAVALCANTE</td>\n",
       "      <td>8114</td>\n",
       "      <td>Departamento / Desconto</td>\n",
       "      <td>PAG ELLENBRIONELIGERO</td>\n",
       "      <td>Única</td>\n",
       "      <td>0.0</td>\n",
       "      <td>0.0</td>\n",
       "      <td>95.00</td>\n",
       "    </tr>\n",
       "    <tr>\n",
       "      <th>182</th>\n",
       "      <td>07/09/2023</td>\n",
       "      <td>GUSTAVO CAVALCANTE</td>\n",
       "      <td>8114</td>\n",
       "      <td>Departamento / Desconto</td>\n",
       "      <td>LOJAS MEL</td>\n",
       "      <td>Única</td>\n",
       "      <td>0.0</td>\n",
       "      <td>0.0</td>\n",
       "      <td>15.98</td>\n",
       "    </tr>\n",
       "    <tr>\n",
       "      <th>183</th>\n",
       "      <td>12/09/2023</td>\n",
       "      <td>GUSTAVO CAVALCANTE</td>\n",
       "      <td>8114</td>\n",
       "      <td>Transporte</td>\n",
       "      <td>AUTOPASS S.A*DESCRIPTI</td>\n",
       "      <td>Única</td>\n",
       "      <td>0.0</td>\n",
       "      <td>0.0</td>\n",
       "      <td>6.80</td>\n",
       "    </tr>\n",
       "    <tr>\n",
       "      <th>184</th>\n",
       "      <td>12/09/2023</td>\n",
       "      <td>GUSTAVO CAVALCANTE</td>\n",
       "      <td>8114</td>\n",
       "      <td>Supermercados / Mercearia / Padarias / Lojas d...</td>\n",
       "      <td>COMERCIAL MARUKAI LTDA</td>\n",
       "      <td>Única</td>\n",
       "      <td>0.0</td>\n",
       "      <td>0.0</td>\n",
       "      <td>20.20</td>\n",
       "    </tr>\n",
       "  </tbody>\n",
       "</table>\n",
       "</div>"
      ],
      "text/plain": [
       "    Data de Compra      Nome no Cartão  Final do Cartão  \\\n",
       "180     02/09/2023  GUSTAVO CAVALCANTE             8114   \n",
       "181     02/09/2023  GUSTAVO CAVALCANTE             8114   \n",
       "182     07/09/2023  GUSTAVO CAVALCANTE             8114   \n",
       "183     12/09/2023  GUSTAVO CAVALCANTE             8114   \n",
       "184     12/09/2023  GUSTAVO CAVALCANTE             8114   \n",
       "\n",
       "                                             Categoria  \\\n",
       "180                                 Vestuário / Roupas   \n",
       "181                            Departamento / Desconto   \n",
       "182                            Departamento / Desconto   \n",
       "183                                         Transporte   \n",
       "184  Supermercados / Mercearia / Padarias / Lojas d...   \n",
       "\n",
       "                  Descrição Parcela  Valor (em US$)  Cotação (em R$)  \\\n",
       "180       PAG DAHORASKTSHOP     1/4             0.0              0.0   \n",
       "181   PAG ELLENBRIONELIGERO   Única             0.0              0.0   \n",
       "182               LOJAS MEL   Única             0.0              0.0   \n",
       "183  AUTOPASS S.A*DESCRIPTI   Única             0.0              0.0   \n",
       "184  COMERCIAL MARUKAI LTDA   Única             0.0              0.0   \n",
       "\n",
       "     Valor (em R$)  \n",
       "180          25.00  \n",
       "181          95.00  \n",
       "182          15.98  \n",
       "183           6.80  \n",
       "184          20.20  "
      ]
     },
     "execution_count": 6,
     "metadata": {},
     "output_type": "execute_result"
    }
   ],
   "source": [
    "df_final.tail()"
   ]
  },
  {
   "cell_type": "markdown",
   "id": "3d98ee7b",
   "metadata": {},
   "source": [
    "## Criando a tabela no banco"
   ]
  },
  {
   "cell_type": "code",
   "execution_count": 7,
   "id": "67c4bbf5",
   "metadata": {},
   "outputs": [],
   "source": [
    "# Depois de importar a biblioteca de conexão com o MySQL, usamos a função para conectar com o banco, passando os parâmentos do\n",
    "# servidor, usuário, senha e nome do banco de dados.\n",
    "# 'projeto-financas' é o nome do banco de dados que eu criei previamente no MySQL.\n",
    "# 'servidor', 'usuario' e 'senha' são variáveis de ambiente que eu criei dentro do arquivo .env para não expor os dados de\n",
    "# conexão com o banco de dados.\n",
    "connection = mysql.connector.connect(\n",
    "    host=os.getenv('servidor'),\n",
    "    user=os.getenv('usuario'),\n",
    "    password=os.getenv('senha'),\n",
    "    database='projeto-financas'\n",
    ")\n",
    "cursor = connection.cursor()"
   ]
  },
  {
   "cell_type": "code",
   "execution_count": 8,
   "id": "7a5c1f7d",
   "metadata": {},
   "outputs": [],
   "source": [
    "# Dentro da variável inserimos o comando de texto para a criação da tabela dentro do banco de dados, baseado em cada coluna do\n",
    "# dataframe e seu tipo de dado. Depois, o cursor executa a criação da tabela.\n",
    "create_table_query = \"\"\"\n",
    "CREATE TABLE IF NOT EXISTS gastos_cartao (\n",
    "    id INT AUTO_INCREMENT PRIMARY KEY,\n",
    "    data_compra VARCHAR(50),\n",
    "    nome VARCHAR(100),\n",
    "    final_cartao INT,\n",
    "    categoria VARCHAR(100),\n",
    "    descricao VARCHAR(100),\n",
    "    parcela VARCHAR(100),\n",
    "    valor_dolar FLOAT,\n",
    "    cotacao FLOAT,\n",
    "    valor_reais FLOAT\n",
    ")\n",
    "\"\"\"\n",
    "cursor.execute(create_table_query)"
   ]
  },
  {
   "cell_type": "code",
   "execution_count": 9,
   "id": "ffd1f78e",
   "metadata": {},
   "outputs": [],
   "source": [
    "# Com essa estrutura de repetição, cada linha do dataframe é lida de forma que inserimos no campo específico da tabela \n",
    "# gastos_cartao o valor correspondente \n",
    "for indice, linha in df_final.iterrows():\n",
    "    insert_query = f\"\"\"INSERT INTO gastos_cartao (data_compra, nome, final_cartao, categoria, descricao, parcela, \n",
    "    valor_dolar, cotacao, valor_reais) VALUES (%s, %s, %s, %s, %s, %s, %s, %s, %s)\"\"\"\n",
    "    valores = tuple(linha)\n",
    "    cursor.execute(insert_query, valores)"
   ]
  },
  {
   "cell_type": "code",
   "execution_count": 10,
   "id": "06ecc84f",
   "metadata": {},
   "outputs": [],
   "source": [
    "# O commit finalmente executa os comandos realizando a gravação no banco de dados e após isso finalizamos a conexão.\n",
    "connection.commit()\n",
    "connection.close()"
   ]
  }
 ],
 "metadata": {
  "kernelspec": {
   "display_name": "Python 3 (ipykernel)",
   "language": "python",
   "name": "python3"
  },
  "language_info": {
   "codemirror_mode": {
    "name": "ipython",
    "version": 3
   },
   "file_extension": ".py",
   "mimetype": "text/x-python",
   "name": "python",
   "nbconvert_exporter": "python",
   "pygments_lexer": "ipython3",
   "version": "3.11.5"
  }
 },
 "nbformat": 4,
 "nbformat_minor": 5
}
